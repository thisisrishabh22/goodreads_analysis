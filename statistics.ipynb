{
  "cells": [
    {
      "cell_type": "markdown",
      "metadata": {},
      "source": [
        "# Calculate Basic Statistics of the Datasets"
      ]
    },
    {
      "cell_type": "code",
      "execution_count": 1,
      "metadata": {},
      "outputs": [],
      "source": [
        "import gzip\n",
        "import json\n",
        "import numpy as np\n",
        "import pandas as pd\n",
        "import os\n",
        "pd.options.display.float_format = '{:,}'.format\n"
      ]
    },
    {
      "cell_type": "code",
      "execution_count": 2,
      "metadata": {},
      "outputs": [],
      "source": [
        "DIR = './data'\n"
      ]
    },
    {
      "cell_type": "code",
      "execution_count": 3,
      "metadata": {},
      "outputs": [],
      "source": [
        "def count_lines(file_name):\n",
        "    print('counting file:', file_name)\n",
        "    count = 0\n",
        "    with gzip.open(file_name) as fin:\n",
        "        for l in fin:\n",
        "            count += 1\n",
        "    print('done!')\n",
        "    return count\n"
      ]
    },
    {
      "cell_type": "code",
      "execution_count": null,
      "metadata": {},
      "outputs": [],
      "source": [
        "n_reviews = count_lines(os.path.join(DIR, 'goodreads_reviews_dedup.json.gz'))\n"
      ]
    },
    {
      "cell_type": "code",
      "execution_count": null,
      "metadata": {},
      "outputs": [],
      "source": [
        "df_book_stats = pd.DataFrame([n_reviews], dtype = float,\n",
        "                             columns = ['count'],\n",
        "                             index = ['# no of reviews'])\n",
        "display(df_book_stats)\n"
      ]
    }
  ],
  "metadata": {
    "kernelspec": {
      "display_name": "goodreads_bda",
      "language": "python",
      "name": "python3"
    },
    "language_info": {
      "codemirror_mode": {
        "name": "ipython",
        "version": 3
      },
      "file_extension": ".py",
      "mimetype": "text/x-python",
      "name": "python",
      "nbconvert_exporter": "python",
      "pygments_lexer": "ipython3",
      "version": "3.11.4"
    }
  },
  "nbformat": 4,
  "nbformat_minor": 2
}
